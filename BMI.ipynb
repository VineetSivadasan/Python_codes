{
 "cells": [
  {
   "cell_type": "code",
   "execution_count": 54,
   "id": "5fb1655d-7cef-43ab-b99f-04f56aaf7388",
   "metadata": {},
   "outputs": [],
   "source": [
    "import pandas as pd\n",
    "import numpy as np\n",
    "import matplotlib.pyplot as plt\n",
    "import json\n",
    "import os\n",
    "import decimal"
   ]
  },
  {
   "cell_type": "markdown",
   "id": "bfaf8cc9-ca26-4d1d-acf3-ac168913a7a4",
   "metadata": {},
   "source": [
    "# EDA"
   ]
  },
  {
   "cell_type": "markdown",
   "id": "2c38c115-898c-44a9-809b-9c7af2d4a3cf",
   "metadata": {
    "tags": []
   },
   "source": [
    "## Explore patient json file"
   ]
  },
  {
   "cell_type": "code",
   "execution_count": 55,
   "id": "6521b697-b678-414a-a4db-7765d642f185",
   "metadata": {},
   "outputs": [],
   "source": [
    "file = open('BMI.json')"
   ]
  },
  {
   "cell_type": "code",
   "execution_count": 56,
   "id": "f3e06ce5-a9f3-40b3-877d-665d255af1c4",
   "metadata": {},
   "outputs": [],
   "source": [
    "data = json.load(file)"
   ]
  },
  {
   "cell_type": "code",
   "execution_count": 57,
   "id": "a82f02b3-a9f5-45c2-86ee-46f13477bf6a",
   "metadata": {},
   "outputs": [
    {
     "data": {
      "text/plain": [
       "[{'Gender': 'Male', 'HeightCm': 171, 'WeightKg': 96},\n",
       " {'Gender': 'Male', 'HeightCm': 161, 'WeightKg': 85},\n",
       " {'Gender': 'Male', 'HeightCm': 180, 'WeightKg': 77},\n",
       " {'Gender': 'Female', 'HeightCm': 166, 'WeightKg': 62},\n",
       " {'Gender': 'Female', 'HeightCm': 150, 'WeightKg': 70},\n",
       " {'Gender': 'Female', 'HeightCm': 167, 'WeightKg': 82}]"
      ]
     },
     "execution_count": 57,
     "metadata": {},
     "output_type": "execute_result"
    }
   ],
   "source": [
    "data"
   ]
  },
  {
   "cell_type": "markdown",
   "id": "68aa5a10-1347-4875-8130-af3aeab72ce0",
   "metadata": {},
   "source": [
    "## Generate dataframe of BMI category, BMI Range and Health risk"
   ]
  },
  {
   "cell_type": "code",
   "execution_count": 58,
   "id": "142549a2-9640-49c7-9e3a-76d7ab1ecf0f",
   "metadata": {},
   "outputs": [
    {
     "data": {
      "text/html": [
       "<div>\n",
       "<style scoped>\n",
       "    .dataframe tbody tr th:only-of-type {\n",
       "        vertical-align: middle;\n",
       "    }\n",
       "\n",
       "    .dataframe tbody tr th {\n",
       "        vertical-align: top;\n",
       "    }\n",
       "\n",
       "    .dataframe thead th {\n",
       "        text-align: right;\n",
       "    }\n",
       "</style>\n",
       "<table border=\"1\" class=\"dataframe\">\n",
       "  <thead>\n",
       "    <tr style=\"text-align: right;\">\n",
       "      <th></th>\n",
       "      <th>BMI category</th>\n",
       "      <th>BMI Range (kg/m2)</th>\n",
       "      <th>Health risk</th>\n",
       "    </tr>\n",
       "  </thead>\n",
       "  <tbody>\n",
       "    <tr>\n",
       "      <th>0</th>\n",
       "      <td>Underweight</td>\n",
       "      <td>18.4 and below</td>\n",
       "      <td>Malnutrition risk</td>\n",
       "    </tr>\n",
       "    <tr>\n",
       "      <th>1</th>\n",
       "      <td>Normal weight</td>\n",
       "      <td>18.5:24.9</td>\n",
       "      <td>Low risk</td>\n",
       "    </tr>\n",
       "    <tr>\n",
       "      <th>2</th>\n",
       "      <td>Overweight</td>\n",
       "      <td>25 - 29.9</td>\n",
       "      <td>Enhanced risk</td>\n",
       "    </tr>\n",
       "    <tr>\n",
       "      <th>3</th>\n",
       "      <td>Moderately obese</td>\n",
       "      <td>30 - 34.9</td>\n",
       "      <td>Medium risk</td>\n",
       "    </tr>\n",
       "    <tr>\n",
       "      <th>4</th>\n",
       "      <td>Severely obese</td>\n",
       "      <td>35 - 39.9</td>\n",
       "      <td>High risk</td>\n",
       "    </tr>\n",
       "    <tr>\n",
       "      <th>5</th>\n",
       "      <td>Very severely obese</td>\n",
       "      <td>40 and above</td>\n",
       "      <td>Very high risk</td>\n",
       "    </tr>\n",
       "  </tbody>\n",
       "</table>\n",
       "</div>"
      ],
      "text/plain": [
       "          BMI category BMI Range (kg/m2)        Health risk\n",
       "0          Underweight    18.4 and below  Malnutrition risk\n",
       "1        Normal weight         18.5:24.9           Low risk\n",
       "2           Overweight         25 - 29.9      Enhanced risk\n",
       "3     Moderately obese         30 - 34.9        Medium risk\n",
       "4       Severely obese         35 - 39.9          High risk\n",
       "5  Very severely obese      40 and above     Very high risk"
      ]
     },
     "execution_count": 58,
     "metadata": {},
     "output_type": "execute_result"
    }
   ],
   "source": [
    "#Create table of BMI category, BMI Range and Health risk\n",
    "table_1 = {'BMI category': ['Underweight', 'Normal weight', \n",
    "                            'Overweight', 'Moderately obese', \n",
    "                            'Severely obese', 'Very severely obese'], 'BMI Range (kg/m2)': ['18.4 and below', '18.5:24.9', \n",
    "                            '25 - 29.9', '30 - 34.9', \n",
    "                            '35 - 39.9', '40 and above'], 'Health risk': ['Malnutrition risk', 'Low risk', \n",
    "                            'Enhanced risk', 'Medium risk', \n",
    "                            'High risk', 'Very high risk']} \n",
    "df_table_1 = pd.DataFrame(data=table_1)\n",
    "df_table_1"
   ]
  },
  {
   "cell_type": "markdown",
   "id": "708127c9-bd5a-42e0-aa00-93bc0286bb37",
   "metadata": {},
   "source": [
    "# Question 1: Calculate the BMI (Body Mass Index) using the Formula, BMI Category and Health risk and add them as 3 new columns"
   ]
  },
  {
   "cell_type": "markdown",
   "id": "c8c0bc0d-c1ba-46d7-ad0d-60078f407a0a",
   "metadata": {
    "tags": []
   },
   "source": [
    "## Read BMI json file as a pandas dataframe"
   ]
  },
  {
   "cell_type": "code",
   "execution_count": 59,
   "id": "64bfa1e4-e391-4d59-94ea-cf51eda48589",
   "metadata": {},
   "outputs": [
    {
     "data": {
      "text/html": [
       "<div>\n",
       "<style scoped>\n",
       "    .dataframe tbody tr th:only-of-type {\n",
       "        vertical-align: middle;\n",
       "    }\n",
       "\n",
       "    .dataframe tbody tr th {\n",
       "        vertical-align: top;\n",
       "    }\n",
       "\n",
       "    .dataframe thead th {\n",
       "        text-align: right;\n",
       "    }\n",
       "</style>\n",
       "<table border=\"1\" class=\"dataframe\">\n",
       "  <thead>\n",
       "    <tr style=\"text-align: right;\">\n",
       "      <th></th>\n",
       "      <th>Gender</th>\n",
       "      <th>HeightCm</th>\n",
       "      <th>WeightKg</th>\n",
       "      <th>BMI</th>\n",
       "    </tr>\n",
       "  </thead>\n",
       "  <tbody>\n",
       "    <tr>\n",
       "      <th>0</th>\n",
       "      <td>Male</td>\n",
       "      <td>171</td>\n",
       "      <td>96</td>\n",
       "      <td>32.830615</td>\n",
       "    </tr>\n",
       "    <tr>\n",
       "      <th>1</th>\n",
       "      <td>Male</td>\n",
       "      <td>161</td>\n",
       "      <td>85</td>\n",
       "      <td>32.791945</td>\n",
       "    </tr>\n",
       "    <tr>\n",
       "      <th>2</th>\n",
       "      <td>Male</td>\n",
       "      <td>180</td>\n",
       "      <td>77</td>\n",
       "      <td>23.765432</td>\n",
       "    </tr>\n",
       "    <tr>\n",
       "      <th>3</th>\n",
       "      <td>Female</td>\n",
       "      <td>166</td>\n",
       "      <td>62</td>\n",
       "      <td>22.499637</td>\n",
       "    </tr>\n",
       "    <tr>\n",
       "      <th>4</th>\n",
       "      <td>Female</td>\n",
       "      <td>150</td>\n",
       "      <td>70</td>\n",
       "      <td>31.111111</td>\n",
       "    </tr>\n",
       "    <tr>\n",
       "      <th>5</th>\n",
       "      <td>Female</td>\n",
       "      <td>167</td>\n",
       "      <td>82</td>\n",
       "      <td>29.402273</td>\n",
       "    </tr>\n",
       "  </tbody>\n",
       "</table>\n",
       "</div>"
      ],
      "text/plain": [
       "   Gender  HeightCm  WeightKg        BMI\n",
       "0    Male       171        96  32.830615\n",
       "1    Male       161        85  32.791945\n",
       "2    Male       180        77  23.765432\n",
       "3  Female       166        62  22.499637\n",
       "4  Female       150        70  31.111111\n",
       "5  Female       167        82  29.402273"
      ]
     },
     "execution_count": 59,
     "metadata": {},
     "output_type": "execute_result"
    }
   ],
   "source": [
    "df_json = pd.read_json('BMI.json')\n",
    "\n",
    "# calculate BMI and populate the dataframe with BMI values\n",
    "df_json['BMI']=df_json['WeightKg']/((df_json['HeightCm']*0.01)**2)\n",
    "df_json"
   ]
  },
  {
   "cell_type": "code",
   "execution_count": 60,
   "id": "b9da9085-e2f8-4a06-a4c7-a7ec686d7843",
   "metadata": {},
   "outputs": [],
   "source": [
    "# model to run through BMI values in a dataframe and determine a patient's BMI category and health risk\n",
    "def BMI_cat_health_calc(df):\n",
    "    for i in df.index:\n",
    "        if df.loc[i, 'BMI'] <= 18.4:\n",
    "            df.loc[i, 'BMI Category'] = 'Underweight'\n",
    "            df.loc[i, 'Health risk'] = 'Malnutrition risk'\n",
    "        elif df.loc[i, 'BMI'] <= 24.9:\n",
    "            df.loc[i, 'BMI Category'] = 'Normal weight'\n",
    "            df.loc[i, 'Health risk'] = 'Low risk'\n",
    "        elif df.loc[i, 'BMI'] <= 29.9:\n",
    "            df.loc[i, 'BMI Category'] = 'Overweight'\n",
    "            df.loc[i, 'Health risk'] = 'Enhanced risk'\n",
    "        elif df.loc[i, 'BMI'] <= 34.9:\n",
    "            df.loc[i, 'BMI Category'] = 'Moderately obese'\n",
    "            df.loc[i, 'Health risk'] = 'Medium risk'\n",
    "        elif df.loc[i, 'BMI'] <= 39.9:\n",
    "            df.loc[i, 'BMI Category'] = 'Severely obese'\n",
    "            df.loc[i, 'Health risk'] = 'High risk'\n",
    "        else:\n",
    "            df.loc[i, 'BMI Category'] = 'Very severely obese'\n",
    "            df.loc[i, 'Health risk'] = 'Very high risk'\n",
    "    return(df)"
   ]
  },
  {
   "cell_type": "markdown",
   "id": "26bc93fb-9134-4d16-9ae6-067d713b441e",
   "metadata": {},
   "source": [
    "## Formula - $BMI \\Bigl(\\frac{kg}{m^2} \\Bigr) = \\frac{mass(kg)}{height^2(m^2)}$"
   ]
  },
  {
   "cell_type": "code",
   "execution_count": 61,
   "id": "fd777c4e-4dcc-4477-b27e-61ef899f0a08",
   "metadata": {},
   "outputs": [
    {
     "data": {
      "text/html": [
       "<div>\n",
       "<style scoped>\n",
       "    .dataframe tbody tr th:only-of-type {\n",
       "        vertical-align: middle;\n",
       "    }\n",
       "\n",
       "    .dataframe tbody tr th {\n",
       "        vertical-align: top;\n",
       "    }\n",
       "\n",
       "    .dataframe thead th {\n",
       "        text-align: right;\n",
       "    }\n",
       "</style>\n",
       "<table border=\"1\" class=\"dataframe\">\n",
       "  <thead>\n",
       "    <tr style=\"text-align: right;\">\n",
       "      <th></th>\n",
       "      <th>Gender</th>\n",
       "      <th>HeightCm</th>\n",
       "      <th>WeightKg</th>\n",
       "      <th>BMI</th>\n",
       "      <th>BMI Category</th>\n",
       "      <th>Health risk</th>\n",
       "    </tr>\n",
       "  </thead>\n",
       "  <tbody>\n",
       "    <tr>\n",
       "      <th>0</th>\n",
       "      <td>Male</td>\n",
       "      <td>171</td>\n",
       "      <td>96</td>\n",
       "      <td>32.830615</td>\n",
       "      <td>Moderately obese</td>\n",
       "      <td>Medium risk</td>\n",
       "    </tr>\n",
       "    <tr>\n",
       "      <th>1</th>\n",
       "      <td>Male</td>\n",
       "      <td>161</td>\n",
       "      <td>85</td>\n",
       "      <td>32.791945</td>\n",
       "      <td>Moderately obese</td>\n",
       "      <td>Medium risk</td>\n",
       "    </tr>\n",
       "    <tr>\n",
       "      <th>2</th>\n",
       "      <td>Male</td>\n",
       "      <td>180</td>\n",
       "      <td>77</td>\n",
       "      <td>23.765432</td>\n",
       "      <td>Normal weight</td>\n",
       "      <td>Low risk</td>\n",
       "    </tr>\n",
       "    <tr>\n",
       "      <th>3</th>\n",
       "      <td>Female</td>\n",
       "      <td>166</td>\n",
       "      <td>62</td>\n",
       "      <td>22.499637</td>\n",
       "      <td>Normal weight</td>\n",
       "      <td>Low risk</td>\n",
       "    </tr>\n",
       "    <tr>\n",
       "      <th>4</th>\n",
       "      <td>Female</td>\n",
       "      <td>150</td>\n",
       "      <td>70</td>\n",
       "      <td>31.111111</td>\n",
       "      <td>Moderately obese</td>\n",
       "      <td>Medium risk</td>\n",
       "    </tr>\n",
       "    <tr>\n",
       "      <th>5</th>\n",
       "      <td>Female</td>\n",
       "      <td>167</td>\n",
       "      <td>82</td>\n",
       "      <td>29.402273</td>\n",
       "      <td>Overweight</td>\n",
       "      <td>Enhanced risk</td>\n",
       "    </tr>\n",
       "  </tbody>\n",
       "</table>\n",
       "</div>"
      ],
      "text/plain": [
       "   Gender  HeightCm  WeightKg        BMI      BMI Category    Health risk\n",
       "0    Male       171        96  32.830615  Moderately obese    Medium risk\n",
       "1    Male       161        85  32.791945  Moderately obese    Medium risk\n",
       "2    Male       180        77  23.765432     Normal weight       Low risk\n",
       "3  Female       166        62  22.499637     Normal weight       Low risk\n",
       "4  Female       150        70  31.111111  Moderately obese    Medium risk\n",
       "5  Female       167        82  29.402273        Overweight  Enhanced risk"
      ]
     },
     "execution_count": 61,
     "metadata": {},
     "output_type": "execute_result"
    }
   ],
   "source": [
    "BMI_cat_health_calc(df_json)"
   ]
  },
  {
   "cell_type": "markdown",
   "id": "d6e94b24-2150-4d25-afd7-198c9ea8d0fe",
   "metadata": {},
   "source": [
    "# Question 2: Count the total number of overweight people using ranges in the column BMI Category, check this is consistent programmatically and add any other observations in the documentation"
   ]
  },
  {
   "cell_type": "code",
   "execution_count": 62,
   "id": "1ac33bc4-58dd-4840-a596-8ce37e530eee",
   "metadata": {},
   "outputs": [],
   "source": [
    "# model to run through the json dataframe and count the number of overweight, \n",
    "# moderately obese, severely obese and very severly obese patients in the dataframe\n",
    "def count_overweight(df):\n",
    "    counter = 0\n",
    "    for i in df.index:\n",
    "        if df.loc[i, 'BMI Category'] == 'Overweight':  \n",
    "            counter += 1\n",
    "        elif df.loc[i, 'BMI Category'] == 'Moderately obese':\n",
    "            counter +=1\n",
    "        elif df.loc[i, 'BMI Category'] == 'Severely obese':\n",
    "            counter +=1\n",
    "        elif df.loc[i, 'BMI Category'] == 'Very severely obese':\n",
    "            counter +=1\n",
    "    return print('no. of overweight patients =', counter)"
   ]
  },
  {
   "cell_type": "code",
   "execution_count": 63,
   "id": "474780f9-cac9-468d-b314-5637453e0532",
   "metadata": {},
   "outputs": [
    {
     "name": "stdout",
     "output_type": "stream",
     "text": [
      "no. of overweight patients = 4\n"
     ]
    }
   ],
   "source": [
    "count_overweight(df_json)"
   ]
  },
  {
   "cell_type": "markdown",
   "id": "4a737ec4-2759-42c7-9b05-8fcd4f2ec1b3",
   "metadata": {},
   "source": [
    "# Question 3: Create build, tests to make sure the code is working as expected and this can later be added to an automation build / testing / deployment pipeline"
   ]
  },
  {
   "cell_type": "code",
   "execution_count": 64,
   "id": "d89b49f4-1915-446a-ab22-4e285f2d601e",
   "metadata": {},
   "outputs": [],
   "source": [
    "# create a json file test case\n",
    "dictionary = [{\"Gender\" : \"Male\", \"HeightCm\" : \"163\", \"WeightKg\" : \"82\"}]\n",
    "\n",
    "# Serializing json\n",
    "json_object = json.dumps(dictionary, indent = 4)\n",
    "\n",
    "# writing to test_BMI.json\n",
    "with open('test_BMI.json', 'w') as f:\n",
    "    f.write(json_object)"
   ]
  },
  {
   "cell_type": "code",
   "execution_count": 65,
   "id": "b68b414a-29ec-4d7a-8e68-9846b871f6e2",
   "metadata": {},
   "outputs": [
    {
     "data": {
      "text/html": [
       "<div>\n",
       "<style scoped>\n",
       "    .dataframe tbody tr th:only-of-type {\n",
       "        vertical-align: middle;\n",
       "    }\n",
       "\n",
       "    .dataframe tbody tr th {\n",
       "        vertical-align: top;\n",
       "    }\n",
       "\n",
       "    .dataframe thead th {\n",
       "        text-align: right;\n",
       "    }\n",
       "</style>\n",
       "<table border=\"1\" class=\"dataframe\">\n",
       "  <thead>\n",
       "    <tr style=\"text-align: right;\">\n",
       "      <th></th>\n",
       "      <th>Gender</th>\n",
       "      <th>HeightCm</th>\n",
       "      <th>WeightKg</th>\n",
       "      <th>BMI</th>\n",
       "    </tr>\n",
       "  </thead>\n",
       "  <tbody>\n",
       "    <tr>\n",
       "      <th>0</th>\n",
       "      <td>Male</td>\n",
       "      <td>163</td>\n",
       "      <td>82</td>\n",
       "      <td>30.863036</td>\n",
       "    </tr>\n",
       "  </tbody>\n",
       "</table>\n",
       "</div>"
      ],
      "text/plain": [
       "  Gender  HeightCm  WeightKg        BMI\n",
       "0   Male       163        82  30.863036"
      ]
     },
     "execution_count": 65,
     "metadata": {},
     "output_type": "execute_result"
    }
   ],
   "source": [
    "df_json_test = pd.read_json('test_BMI.json')\n",
    "\n",
    "#calculate BMI and populate the dataframe with BMI values\n",
    "df_json_test['BMI']=df_json_test['WeightKg']/((df_json_test['HeightCm']*0.01)**2)\n",
    "df_json_test"
   ]
  },
  {
   "cell_type": "code",
   "execution_count": 66,
   "id": "919ab4ce-d30c-4952-94a7-d4691ec3e423",
   "metadata": {},
   "outputs": [
    {
     "data": {
      "text/html": [
       "<div>\n",
       "<style scoped>\n",
       "    .dataframe tbody tr th:only-of-type {\n",
       "        vertical-align: middle;\n",
       "    }\n",
       "\n",
       "    .dataframe tbody tr th {\n",
       "        vertical-align: top;\n",
       "    }\n",
       "\n",
       "    .dataframe thead th {\n",
       "        text-align: right;\n",
       "    }\n",
       "</style>\n",
       "<table border=\"1\" class=\"dataframe\">\n",
       "  <thead>\n",
       "    <tr style=\"text-align: right;\">\n",
       "      <th></th>\n",
       "      <th>Gender</th>\n",
       "      <th>HeightCm</th>\n",
       "      <th>WeightKg</th>\n",
       "      <th>BMI</th>\n",
       "      <th>BMI Category</th>\n",
       "      <th>Health risk</th>\n",
       "    </tr>\n",
       "  </thead>\n",
       "  <tbody>\n",
       "    <tr>\n",
       "      <th>0</th>\n",
       "      <td>Male</td>\n",
       "      <td>163</td>\n",
       "      <td>82</td>\n",
       "      <td>30.863036</td>\n",
       "      <td>Moderately obese</td>\n",
       "      <td>Medium risk</td>\n",
       "    </tr>\n",
       "  </tbody>\n",
       "</table>\n",
       "</div>"
      ],
      "text/plain": [
       "  Gender  HeightCm  WeightKg        BMI      BMI Category  Health risk\n",
       "0   Male       163        82  30.863036  Moderately obese  Medium risk"
      ]
     },
     "execution_count": 66,
     "metadata": {},
     "output_type": "execute_result"
    }
   ],
   "source": [
    "BMI_cat_health_calc(df_json_test)"
   ]
  },
  {
   "cell_type": "code",
   "execution_count": 67,
   "id": "4461901f-907a-423a-8a1c-995654abba54",
   "metadata": {},
   "outputs": [
    {
     "name": "stdout",
     "output_type": "stream",
     "text": [
      "no. of overweight patients = 1\n"
     ]
    }
   ],
   "source": [
    "count_overweight(df_json_test)"
   ]
  }
 ],
 "metadata": {
  "kernelspec": {
   "display_name": "Python 3",
   "language": "python",
   "name": "python3"
  },
  "language_info": {
   "codemirror_mode": {
    "name": "ipython",
    "version": 3
   },
   "file_extension": ".py",
   "mimetype": "text/x-python",
   "name": "python",
   "nbconvert_exporter": "python",
   "pygments_lexer": "ipython3",
   "version": "3.9.12"
  }
 },
 "nbformat": 4,
 "nbformat_minor": 5
}
